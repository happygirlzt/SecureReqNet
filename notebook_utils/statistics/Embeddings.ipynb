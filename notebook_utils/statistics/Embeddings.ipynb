{
 "cells": [
  {
   "cell_type": "code",
   "execution_count": null,
   "metadata": {},
   "outputs": [],
   "source": [
    "#danaderp March 2018"
   ]
  },
  {
   "cell_type": "code",
   "execution_count": 6,
   "metadata": {},
   "outputs": [],
   "source": [
    "import csv\n",
    "#Implementing the Skip-Gram Model\n",
    "from tensorflow.keras.preprocessing import text\n",
    "from nltk.corpus import gutenberg\n",
    "from string import punctuation\n",
    "from tensorflow.keras.preprocessing.sequence import skipgrams"
   ]
  },
  {
   "cell_type": "code",
   "execution_count": 7,
   "metadata": {},
   "outputs": [],
   "source": [
    "import pandas as pd\n",
    "import numpy as np\n",
    "import re\n",
    "import nltk\n",
    "import matplotlib.pyplot as plt\n",
    "pd.options.display.max_colwidth = 200\n",
    "%matplotlib inline"
   ]
  },
  {
   "cell_type": "code",
   "execution_count": 8,
   "metadata": {},
   "outputs": [],
   "source": [
    "from nltk.stem.snowball import SnowballStemmer\n",
    "englishStemmer=SnowballStemmer(\"english\")"
   ]
  },
  {
   "cell_type": "code",
   "execution_count": 9,
   "metadata": {},
   "outputs": [],
   "source": [
    "import tensorflow as tf\n",
    "from tensorflow.keras import layers\n",
    "from tensorflow.keras.layers import Dot, Input, Dense, Reshape, LSTM, Conv2D, Flatten, MaxPooling1D, Dropout, MaxPooling2D\n",
    "from tensorflow.keras.layers import Embedding, Multiply, Subtract\n",
    "from tensorflow.keras.models import Sequential, Model\n",
    "from tensorflow.python.keras.layers import Lambda\n",
    "from tensorflow.keras.callbacks import CSVLogger, ModelCheckpoint"
   ]
  },
  {
   "cell_type": "code",
   "execution_count": 10,
   "metadata": {},
   "outputs": [
    {
     "name": "stderr",
     "output_type": "stream",
     "text": [
      "Using TensorFlow backend.\n"
     ]
    }
   ],
   "source": [
    "# visualize model structure\n",
    "from IPython.display import SVG\n",
    "from keras.utils.vis_utils import model_to_dot\n",
    "from sklearn.metrics.pairwise import euclidean_distances\n",
    "from sklearn.manifold import TSNE"
   ]
  },
  {
   "cell_type": "code",
   "execution_count": 11,
   "metadata": {},
   "outputs": [],
   "source": [
    "#Preprocessing Part O\n",
    "wpt = nltk.WordPunctTokenizer()\n",
    "stop_words = nltk.corpus.stopwords.words('english')\n",
    "remove_terms = punctuation + '0123456789'\n",
    "\n",
    "def normalize_document(doc):\n",
    "    # lower case and remove special characters\\whitespaces\n",
    "    doc = re.sub(r'[^a-zA-Z\\s]', '', doc, re.I|re.A)\n",
    "    doc = doc.lower()\n",
    "    doc = doc.strip()\n",
    "    # tokenize document\n",
    "    tokens = wpt.tokenize(doc)\n",
    "    #Filter stopwords out of document\n",
    "    filtered_tokens = [token for token in tokens if token not in stop_words]\n",
    "    #Filtering Stemmings\n",
    "    filtered_tokens = [englishStemmer.stem(token) for token in filtered_tokens]\n",
    "    #Filtering remove-terms\n",
    "    filtered_tokens = [token for token in filtered_tokens if token not in remove_terms and len(token)>2]\n",
    "    # re-create document from filtered tokens\n",
    "    doc = ' '.join(filtered_tokens)\n",
    "    return doc\n",
    "\n",
    "normalize_corpus = np.vectorize(normalize_document)"
   ]
  },
  {
   "cell_type": "code",
   "execution_count": 12,
   "metadata": {},
   "outputs": [
    {
     "data": {
      "text/plain": [
       "'!\"#$%&\\'()*+,-./:;<=>?@[\\\\]^_`{|}~0123456789'"
      ]
     },
     "execution_count": 12,
     "metadata": {},
     "output_type": "execute_result"
    }
   ],
   "source": [
    "#Preprocessing Part I\n",
    "remove_terms"
   ]
  },
  {
   "cell_type": "code",
   "execution_count": 68,
   "metadata": {},
   "outputs": [],
   "source": [
    "#Extracting Data\n",
    "filename = '../../data/cve/cve_dataset.tsv'\n",
    "data = []\n",
    "with open(filename, 'r') as tsv_file:\n",
    "    tsv_reader = csv.reader(tsv_file, delimiter='\\t')\n",
    "    for line in tsv_reader:\n",
    "        data.append((line[1], line[2]))\n",
    "\n",
    "# for d in data:\n",
    "#     print(d)\n"
   ]
  },
  {
   "cell_type": "code",
   "execution_count": 18,
   "metadata": {},
   "outputs": [
    {
     "data": {
      "text/plain": [
       "'A buffer overflow in InterScan VirusWall 3.23 and 3.3 allows a remote attacker to execute arbitrary code by sending a long HELO command to the server.'"
      ]
     },
     "execution_count": 18,
     "metadata": {},
     "output_type": "execute_result"
    }
   ],
   "source": [
    "data[0][1]"
   ]
  },
  {
   "cell_type": "code",
   "execution_count": 19,
   "metadata": {},
   "outputs": [],
   "source": [
    "#Normalization\n",
    "#Create a Method\n",
    "corpora = [sentence[1] for sentence in data]\n",
    "norm_corpora = [sentence.split(' ') for sentence in corpora]\n",
    "norm_corpora = [[word.lower() for word in sent if word not in remove_terms] \n",
    "                for sent in norm_corpora]\n",
    "norm_corpora = [' '.join(tok_sent) for tok_sent in norm_corpora]\n",
    "norm_corpora = filter(None, normalize_corpus(norm_corpora))\n",
    "norm_corpora = [tok_sent for tok_sent in norm_corpora if len(tok_sent.split()) > 2] #Len of the sentence"
   ]
  },
  {
   "cell_type": "code",
   "execution_count": 2,
   "metadata": {},
   "outputs": [],
   "source": [
    "# norm_corpora"
   ]
  },
  {
   "cell_type": "code",
   "execution_count": 1,
   "metadata": {},
   "outputs": [],
   "source": [
    "# corpora"
   ]
  },
  {
   "cell_type": "code",
   "execution_count": 20,
   "metadata": {},
   "outputs": [],
   "source": [
    "#1-Building the corpus vocabulary\n",
    "tokenizer_corpora = text.Tokenizer()\n",
    "tokenizer_corpora.fit_on_texts(norm_corpora)"
   ]
  },
  {
   "cell_type": "code",
   "execution_count": 21,
   "metadata": {},
   "outputs": [],
   "source": [
    "word2id = tokenizer_corpora.word_index\n",
    "id2word = {v:k for k, v in word2id.items()}"
   ]
  },
  {
   "cell_type": "code",
   "execution_count": 70,
   "metadata": {},
   "outputs": [],
   "source": [
    "# word2id"
   ]
  },
  {
   "cell_type": "code",
   "execution_count": 24,
   "metadata": {},
   "outputs": [
    {
     "name": "stdout",
     "output_type": "stream",
     "text": [
      "Vocabulary Size Source: 17769\n",
      "Vocabulary Sample Source: [('vulner', 1), ('attack', 2), ('allow', 3), ('via', 4), ('remot', 5), ('version', 6), ('user', 7), ('execut', 8), ('file', 9), ('code', 10)]\n"
     ]
    }
   ],
   "source": [
    "vocab_size = len(word2id) + 1 \n",
    "embed_size = 20 # <-------- [HyperParameter]\n",
    "print('Vocabulary Size Source:', vocab_size)\n",
    "print('Vocabulary Sample Source:', list(word2id.items())[:10])"
   ]
  },
  {
   "cell_type": "code",
   "execution_count": 25,
   "metadata": {},
   "outputs": [],
   "source": [
    "wids = [[word2id[w] for w in text.text_to_word_sequence(doc)] for doc in norm_corpora] #Vector of IDs of words per sentence"
   ]
  },
  {
   "cell_type": "code",
   "execution_count": 26,
   "metadata": {},
   "outputs": [],
   "source": [
    "#2-Build a skip-gram [(target, context), relevancy] generator\n",
    "# generate skip-grams\n",
    "#Window SIZE!\n",
    "w_size = 10 # <-------- [HyperParameter]\n",
    "skip_grams = [skipgrams(wid, vocabulary_size=vocab_size, window_size=w_size) for wid in wids]"
   ]
  },
  {
   "cell_type": "code",
   "execution_count": 27,
   "metadata": {},
   "outputs": [
    {
     "name": "stdout",
     "output_type": "stream",
     "text": [
      "(arbitrari (11), mojarra (15455)) -> 0\n",
      "(code (10), viruswal (2395)) -> 1\n",
      "(code (10), interscan (2394)) -> 1\n",
      "(arbitrari (11), remot (5)) -> 1\n",
      "(arbitrari (11), attack (2)) -> 1\n",
      "(interscan (2394), xmplay (11979)) -> 0\n",
      "(viruswal (2395), remot (5)) -> 1\n",
      "(interscan (2394), allow (3)) -> 1\n",
      "(viruswal (2395), mpvimplmptrackfinishsdtp (13408)) -> 0\n",
      "(long (270), hugeit (1974)) -> 0\n"
     ]
    }
   ],
   "source": [
    "# view sample skip-grams\n",
    "pairs, labels = skip_grams[0][0], skip_grams[0][1]\n",
    "for i in range(10):\n",
    "    print(\"({:s} ({:d}), {:s} ({:d})) -> {:d}\".format(\n",
    "          id2word[pairs[i][0]], pairs[i][0], \n",
    "          id2word[pairs[i][1]], pairs[i][1], \n",
    "          labels[i]))"
   ]
  },
  {
   "cell_type": "code",
   "execution_count": 28,
   "metadata": {},
   "outputs": [],
   "source": [
    "#3-Building the skip-gram model architecture\n",
    "#The functional API Version\n",
    "#Receive 1 Integer between 1 and embed_size\n",
    "word_input = Input(shape=(1,))\n",
    "\n",
    "# This embedding layer will encode the input sequence\n",
    "# into a sequence of dense vocab_size-dimensional vectors.\n",
    "x_word = Embedding(vocab_size, embed_size,embeddings_initializer=\"glorot_uniform\",input_length=1)(word_input)\n",
    "x_word = Reshape((embed_size, ))(x_word)\n",
    "\n",
    "context_input = Input(shape=(1,))\n",
    "\n",
    "x_context = Embedding(vocab_size, embed_size,embeddings_initializer=\"glorot_uniform\",input_length=1)(context_input)\n",
    "x_context = Reshape((embed_size, ))(x_context)\n",
    "\n",
    "x = Dot(axes=-1,normalize=True)([x_word, x_context])\n",
    "x = Dense(1,kernel_initializer=\"glorot_uniform\", activation=\"sigmoid\")(x)"
   ]
  },
  {
   "cell_type": "code",
   "execution_count": 29,
   "metadata": {},
   "outputs": [],
   "source": [
    "#Defining The model\n",
    "model = Model(inputs=[word_input,context_input], outputs=[x])"
   ]
  },
  {
   "cell_type": "code",
   "execution_count": 30,
   "metadata": {},
   "outputs": [],
   "source": [
    "#Model Compiling\n",
    "model.compile(loss=\"mean_squared_error\", optimizer=\"rmsprop\")"
   ]
  },
  {
   "cell_type": "code",
   "execution_count": 31,
   "metadata": {},
   "outputs": [
    {
     "name": "stdout",
     "output_type": "stream",
     "text": [
      "Model: \"model\"\n",
      "__________________________________________________________________________________________________\n",
      "Layer (type)                    Output Shape         Param #     Connected to                     \n",
      "==================================================================================================\n",
      "input_1 (InputLayer)            [(None, 1)]          0                                            \n",
      "__________________________________________________________________________________________________\n",
      "input_2 (InputLayer)            [(None, 1)]          0                                            \n",
      "__________________________________________________________________________________________________\n",
      "embedding (Embedding)           (None, 1, 20)        355380      input_1[0][0]                    \n",
      "__________________________________________________________________________________________________\n",
      "embedding_1 (Embedding)         (None, 1, 20)        355380      input_2[0][0]                    \n",
      "__________________________________________________________________________________________________\n",
      "reshape (Reshape)               (None, 20)           0           embedding[0][0]                  \n",
      "__________________________________________________________________________________________________\n",
      "reshape_1 (Reshape)             (None, 20)           0           embedding_1[0][0]                \n",
      "__________________________________________________________________________________________________\n",
      "dot (Dot)                       (None, 1)            0           reshape[0][0]                    \n",
      "                                                                 reshape_1[0][0]                  \n",
      "__________________________________________________________________________________________________\n",
      "dense (Dense)                   (None, 1)            2           dot[0][0]                        \n",
      "==================================================================================================\n",
      "Total params: 710,762\n",
      "Trainable params: 710,762\n",
      "Non-trainable params: 0\n",
      "__________________________________________________________________________________________________\n",
      "None\n"
     ]
    }
   ],
   "source": [
    "# view model summary\n",
    "print(model.summary())"
   ]
  },
  {
   "cell_type": "code",
   "execution_count": 66,
   "metadata": {},
   "outputs": [],
   "source": [
    "# SVG(model_to_dot(model, show_shapes=True, show_layer_names=False, \n",
    "#                  rankdir='TB').create(prog='dot', format='svg'))"
   ]
  },
  {
   "cell_type": "code",
   "execution_count": 37,
   "metadata": {},
   "outputs": [
    {
     "name": "stdout",
     "output_type": "stream",
     "text": [
      "Processed Source 0 (skip_first, skip_second, relevance) pairs\n",
      "Processed Source 10000 (skip_first, skip_second, relevance) pairs\n",
      "Epoch: 1 Loss: 1379.9965764218941\n",
      "Processed Source 0 (skip_first, skip_second, relevance) pairs\n",
      "Processed Source 10000 (skip_first, skip_second, relevance) pairs\n",
      "Epoch: 2 Loss: 1236.449962376384\n",
      "Processed Source 0 (skip_first, skip_second, relevance) pairs\n",
      "Processed Source 10000 (skip_first, skip_second, relevance) pairs\n",
      "Epoch: 3 Loss: 1201.1626591628883\n",
      "Processed Source 0 (skip_first, skip_second, relevance) pairs\n",
      "Processed Source 10000 (skip_first, skip_second, relevance) pairs\n",
      "Epoch: 4 Loss: 1163.254083123291\n",
      "Processed Source 0 (skip_first, skip_second, relevance) pairs\n",
      "Processed Source 10000 (skip_first, skip_second, relevance) pairs\n",
      "Epoch: 5 Loss: 1138.2745210702997\n"
     ]
    }
   ],
   "source": [
    "#4-Training The Model \n",
    "for epoch in range(1, 6):\n",
    "    loss = 0\n",
    "    for i, elem in enumerate(skip_grams):\n",
    "        pair_first_elem = np.array(list(zip(*elem[0]))[0], dtype='int32')\n",
    "        pair_second_elem = np.array(list(zip(*elem[0]))[1], dtype='int32')\n",
    "        labels = np.array(elem[1], dtype='int32')\n",
    "        X = [pair_first_elem, pair_second_elem]\n",
    "        Y = labels\n",
    "        if i % 10000 == 0:\n",
    "            print('Processed Source {} (skip_first, skip_second, relevance) pairs'.format(i))\n",
    "        loss += model.train_on_batch(X,Y)  \n",
    "    print('Epoch:', epoch, 'Loss:', loss)"
   ]
  },
  {
   "cell_type": "code",
   "execution_count": 38,
   "metadata": {},
   "outputs": [],
   "source": [
    "#5-Getting Word Embeddings\n",
    "weights = model.layers[2].get_weights()[0][1:]"
   ]
  },
  {
   "cell_type": "code",
   "execution_count": 39,
   "metadata": {},
   "outputs": [],
   "source": [
    "df_embeddings = pd.DataFrame(weights, index=id2word.values())"
   ]
  },
  {
   "cell_type": "code",
   "execution_count": 40,
   "metadata": {},
   "outputs": [
    {
     "data": {
      "text/html": [
       "<div>\n",
       "<style scoped>\n",
       "    .dataframe tbody tr th:only-of-type {\n",
       "        vertical-align: middle;\n",
       "    }\n",
       "\n",
       "    .dataframe tbody tr th {\n",
       "        vertical-align: top;\n",
       "    }\n",
       "\n",
       "    .dataframe thead th {\n",
       "        text-align: right;\n",
       "    }\n",
       "</style>\n",
       "<table border=\"1\" class=\"dataframe\">\n",
       "  <thead>\n",
       "    <tr style=\"text-align: right;\">\n",
       "      <th></th>\n",
       "      <th>0</th>\n",
       "      <th>1</th>\n",
       "      <th>2</th>\n",
       "      <th>3</th>\n",
       "      <th>4</th>\n",
       "      <th>5</th>\n",
       "      <th>6</th>\n",
       "      <th>7</th>\n",
       "      <th>8</th>\n",
       "      <th>9</th>\n",
       "      <th>10</th>\n",
       "      <th>11</th>\n",
       "      <th>12</th>\n",
       "      <th>13</th>\n",
       "      <th>14</th>\n",
       "      <th>15</th>\n",
       "      <th>16</th>\n",
       "      <th>17</th>\n",
       "      <th>18</th>\n",
       "      <th>19</th>\n",
       "    </tr>\n",
       "  </thead>\n",
       "  <tbody>\n",
       "    <tr>\n",
       "      <th>vulner</th>\n",
       "      <td>0.029791</td>\n",
       "      <td>0.133402</td>\n",
       "      <td>-0.030531</td>\n",
       "      <td>-0.077273</td>\n",
       "      <td>0.099846</td>\n",
       "      <td>-0.378489</td>\n",
       "      <td>0.124145</td>\n",
       "      <td>-0.103751</td>\n",
       "      <td>0.178344</td>\n",
       "      <td>-0.213379</td>\n",
       "      <td>-0.221962</td>\n",
       "      <td>0.150023</td>\n",
       "      <td>0.017552</td>\n",
       "      <td>0.037190</td>\n",
       "      <td>0.196109</td>\n",
       "      <td>-0.381737</td>\n",
       "      <td>0.043154</td>\n",
       "      <td>-0.114640</td>\n",
       "      <td>-0.013800</td>\n",
       "      <td>-0.173971</td>\n",
       "    </tr>\n",
       "    <tr>\n",
       "      <th>attack</th>\n",
       "      <td>0.013942</td>\n",
       "      <td>0.234610</td>\n",
       "      <td>0.056856</td>\n",
       "      <td>-0.260750</td>\n",
       "      <td>-0.063968</td>\n",
       "      <td>-0.362577</td>\n",
       "      <td>0.113978</td>\n",
       "      <td>-0.110138</td>\n",
       "      <td>0.165290</td>\n",
       "      <td>-0.176965</td>\n",
       "      <td>-0.224727</td>\n",
       "      <td>0.162961</td>\n",
       "      <td>-0.056045</td>\n",
       "      <td>0.080904</td>\n",
       "      <td>0.200855</td>\n",
       "      <td>-0.384939</td>\n",
       "      <td>0.135859</td>\n",
       "      <td>-0.075946</td>\n",
       "      <td>0.021515</td>\n",
       "      <td>-0.016448</td>\n",
       "    </tr>\n",
       "    <tr>\n",
       "      <th>allow</th>\n",
       "      <td>0.036851</td>\n",
       "      <td>0.323518</td>\n",
       "      <td>-0.019389</td>\n",
       "      <td>-0.079774</td>\n",
       "      <td>-0.079845</td>\n",
       "      <td>-0.334971</td>\n",
       "      <td>0.097989</td>\n",
       "      <td>-0.194124</td>\n",
       "      <td>0.223996</td>\n",
       "      <td>-0.149279</td>\n",
       "      <td>-0.224916</td>\n",
       "      <td>0.204998</td>\n",
       "      <td>-0.007673</td>\n",
       "      <td>0.042238</td>\n",
       "      <td>0.229974</td>\n",
       "      <td>-0.466071</td>\n",
       "      <td>0.125965</td>\n",
       "      <td>-0.047542</td>\n",
       "      <td>0.093861</td>\n",
       "      <td>0.023899</td>\n",
       "    </tr>\n",
       "    <tr>\n",
       "      <th>via</th>\n",
       "      <td>0.122959</td>\n",
       "      <td>0.285991</td>\n",
       "      <td>-0.008764</td>\n",
       "      <td>-0.134726</td>\n",
       "      <td>0.035227</td>\n",
       "      <td>-0.184372</td>\n",
       "      <td>-0.066779</td>\n",
       "      <td>-0.041294</td>\n",
       "      <td>0.266346</td>\n",
       "      <td>-0.188186</td>\n",
       "      <td>-0.298111</td>\n",
       "      <td>0.039487</td>\n",
       "      <td>0.008895</td>\n",
       "      <td>0.076055</td>\n",
       "      <td>0.220647</td>\n",
       "      <td>-0.354262</td>\n",
       "      <td>0.225883</td>\n",
       "      <td>0.035820</td>\n",
       "      <td>0.083921</td>\n",
       "      <td>0.051572</td>\n",
       "    </tr>\n",
       "    <tr>\n",
       "      <th>remot</th>\n",
       "      <td>-0.178436</td>\n",
       "      <td>0.170578</td>\n",
       "      <td>-0.045827</td>\n",
       "      <td>-0.092004</td>\n",
       "      <td>0.072009</td>\n",
       "      <td>-0.105454</td>\n",
       "      <td>0.018407</td>\n",
       "      <td>-0.008805</td>\n",
       "      <td>0.167930</td>\n",
       "      <td>-0.023994</td>\n",
       "      <td>-0.215696</td>\n",
       "      <td>0.130754</td>\n",
       "      <td>-0.058881</td>\n",
       "      <td>-0.000706</td>\n",
       "      <td>0.247068</td>\n",
       "      <td>-0.400714</td>\n",
       "      <td>0.112339</td>\n",
       "      <td>-0.070633</td>\n",
       "      <td>0.104002</td>\n",
       "      <td>0.051430</td>\n",
       "    </tr>\n",
       "    <tr>\n",
       "      <th>version</th>\n",
       "      <td>0.142980</td>\n",
       "      <td>0.145600</td>\n",
       "      <td>0.019239</td>\n",
       "      <td>0.133466</td>\n",
       "      <td>0.016297</td>\n",
       "      <td>-0.408795</td>\n",
       "      <td>0.097404</td>\n",
       "      <td>-0.008066</td>\n",
       "      <td>0.083735</td>\n",
       "      <td>-0.266642</td>\n",
       "      <td>-0.216913</td>\n",
       "      <td>0.081066</td>\n",
       "      <td>0.171277</td>\n",
       "      <td>0.032684</td>\n",
       "      <td>0.194828</td>\n",
       "      <td>-0.344600</td>\n",
       "      <td>-0.208429</td>\n",
       "      <td>-0.181132</td>\n",
       "      <td>0.080950</td>\n",
       "      <td>-0.043104</td>\n",
       "    </tr>\n",
       "    <tr>\n",
       "      <th>user</th>\n",
       "      <td>0.213590</td>\n",
       "      <td>0.199066</td>\n",
       "      <td>0.029191</td>\n",
       "      <td>-0.072005</td>\n",
       "      <td>-0.049742</td>\n",
       "      <td>-0.162005</td>\n",
       "      <td>0.163244</td>\n",
       "      <td>-0.142738</td>\n",
       "      <td>-0.006523</td>\n",
       "      <td>-0.051994</td>\n",
       "      <td>-0.087395</td>\n",
       "      <td>0.066964</td>\n",
       "      <td>-0.323411</td>\n",
       "      <td>-0.032205</td>\n",
       "      <td>0.033528</td>\n",
       "      <td>-0.452243</td>\n",
       "      <td>0.269656</td>\n",
       "      <td>-0.058042</td>\n",
       "      <td>0.013768</td>\n",
       "      <td>0.155761</td>\n",
       "    </tr>\n",
       "    <tr>\n",
       "      <th>execut</th>\n",
       "      <td>-0.068598</td>\n",
       "      <td>0.125390</td>\n",
       "      <td>-0.110637</td>\n",
       "      <td>-0.225154</td>\n",
       "      <td>0.071871</td>\n",
       "      <td>-0.234684</td>\n",
       "      <td>-0.036759</td>\n",
       "      <td>-0.086871</td>\n",
       "      <td>-0.030107</td>\n",
       "      <td>-0.206565</td>\n",
       "      <td>-0.294544</td>\n",
       "      <td>0.135542</td>\n",
       "      <td>-0.131859</td>\n",
       "      <td>0.021672</td>\n",
       "      <td>0.221932</td>\n",
       "      <td>-0.294394</td>\n",
       "      <td>0.203144</td>\n",
       "      <td>-0.131436</td>\n",
       "      <td>0.012681</td>\n",
       "      <td>-0.043524</td>\n",
       "    </tr>\n",
       "    <tr>\n",
       "      <th>file</th>\n",
       "      <td>0.171961</td>\n",
       "      <td>0.058520</td>\n",
       "      <td>-0.061310</td>\n",
       "      <td>-0.224528</td>\n",
       "      <td>0.324022</td>\n",
       "      <td>-0.243994</td>\n",
       "      <td>0.035711</td>\n",
       "      <td>0.053293</td>\n",
       "      <td>-0.189319</td>\n",
       "      <td>-0.253849</td>\n",
       "      <td>-0.120267</td>\n",
       "      <td>0.056882</td>\n",
       "      <td>-0.011839</td>\n",
       "      <td>0.056021</td>\n",
       "      <td>0.051500</td>\n",
       "      <td>-0.568118</td>\n",
       "      <td>0.322231</td>\n",
       "      <td>-0.002039</td>\n",
       "      <td>-0.060740</td>\n",
       "      <td>0.130291</td>\n",
       "    </tr>\n",
       "    <tr>\n",
       "      <th>code</th>\n",
       "      <td>-0.095517</td>\n",
       "      <td>0.128321</td>\n",
       "      <td>-0.020802</td>\n",
       "      <td>-0.193695</td>\n",
       "      <td>0.093964</td>\n",
       "      <td>-0.138499</td>\n",
       "      <td>-0.047520</td>\n",
       "      <td>-0.027487</td>\n",
       "      <td>-0.032707</td>\n",
       "      <td>-0.151899</td>\n",
       "      <td>-0.268576</td>\n",
       "      <td>0.115950</td>\n",
       "      <td>-0.137210</td>\n",
       "      <td>-0.016884</td>\n",
       "      <td>0.167489</td>\n",
       "      <td>-0.314732</td>\n",
       "      <td>0.162616</td>\n",
       "      <td>-0.069166</td>\n",
       "      <td>-0.034451</td>\n",
       "      <td>-0.025782</td>\n",
       "    </tr>\n",
       "    <tr>\n",
       "      <th>arbitrari</th>\n",
       "      <td>0.031156</td>\n",
       "      <td>0.380906</td>\n",
       "      <td>-0.074046</td>\n",
       "      <td>0.092879</td>\n",
       "      <td>0.045394</td>\n",
       "      <td>-0.043093</td>\n",
       "      <td>-0.148616</td>\n",
       "      <td>-0.295998</td>\n",
       "      <td>-0.113906</td>\n",
       "      <td>-0.124153</td>\n",
       "      <td>-0.177890</td>\n",
       "      <td>-0.012802</td>\n",
       "      <td>-0.123505</td>\n",
       "      <td>0.043213</td>\n",
       "      <td>0.116081</td>\n",
       "      <td>-0.395353</td>\n",
       "      <td>0.450949</td>\n",
       "      <td>-0.144469</td>\n",
       "      <td>0.265660</td>\n",
       "      <td>0.104440</td>\n",
       "    </tr>\n",
       "    <tr>\n",
       "      <th>issu</th>\n",
       "      <td>0.209452</td>\n",
       "      <td>-0.163609</td>\n",
       "      <td>0.052129</td>\n",
       "      <td>-0.047871</td>\n",
       "      <td>0.025383</td>\n",
       "      <td>-0.065928</td>\n",
       "      <td>-0.230550</td>\n",
       "      <td>0.256465</td>\n",
       "      <td>-0.181750</td>\n",
       "      <td>-0.140243</td>\n",
       "      <td>-0.070316</td>\n",
       "      <td>0.018258</td>\n",
       "      <td>0.058295</td>\n",
       "      <td>0.008226</td>\n",
       "      <td>0.325389</td>\n",
       "      <td>-0.370032</td>\n",
       "      <td>0.118582</td>\n",
       "      <td>0.070868</td>\n",
       "      <td>0.242809</td>\n",
       "      <td>0.143267</td>\n",
       "    </tr>\n",
       "    <tr>\n",
       "      <th>window</th>\n",
       "      <td>0.020299</td>\n",
       "      <td>0.027884</td>\n",
       "      <td>-0.065286</td>\n",
       "      <td>-0.051665</td>\n",
       "      <td>0.049791</td>\n",
       "      <td>-0.098816</td>\n",
       "      <td>-0.013144</td>\n",
       "      <td>-0.028040</td>\n",
       "      <td>0.025351</td>\n",
       "      <td>0.068512</td>\n",
       "      <td>-0.109441</td>\n",
       "      <td>0.070060</td>\n",
       "      <td>-0.151226</td>\n",
       "      <td>0.010722</td>\n",
       "      <td>0.082325</td>\n",
       "      <td>-0.163408</td>\n",
       "      <td>-0.104390</td>\n",
       "      <td>-0.127020</td>\n",
       "      <td>-0.062471</td>\n",
       "      <td>0.017807</td>\n",
       "    </tr>\n",
       "    <tr>\n",
       "      <th>exploit</th>\n",
       "      <td>0.059897</td>\n",
       "      <td>0.143752</td>\n",
       "      <td>0.053406</td>\n",
       "      <td>-0.123371</td>\n",
       "      <td>-0.007974</td>\n",
       "      <td>-0.185874</td>\n",
       "      <td>0.082806</td>\n",
       "      <td>-0.081616</td>\n",
       "      <td>0.067015</td>\n",
       "      <td>-0.162492</td>\n",
       "      <td>-0.174428</td>\n",
       "      <td>0.032603</td>\n",
       "      <td>0.005301</td>\n",
       "      <td>0.004084</td>\n",
       "      <td>0.011453</td>\n",
       "      <td>-0.188048</td>\n",
       "      <td>-0.013688</td>\n",
       "      <td>-0.139205</td>\n",
       "      <td>0.002977</td>\n",
       "      <td>-0.063404</td>\n",
       "    </tr>\n",
       "    <tr>\n",
       "      <th>server</th>\n",
       "      <td>0.076487</td>\n",
       "      <td>0.099817</td>\n",
       "      <td>0.019624</td>\n",
       "      <td>-0.174232</td>\n",
       "      <td>0.012656</td>\n",
       "      <td>-0.250222</td>\n",
       "      <td>0.093747</td>\n",
       "      <td>0.099356</td>\n",
       "      <td>0.216785</td>\n",
       "      <td>-0.081661</td>\n",
       "      <td>-0.234312</td>\n",
       "      <td>0.084455</td>\n",
       "      <td>-0.091694</td>\n",
       "      <td>0.013044</td>\n",
       "      <td>0.172548</td>\n",
       "      <td>-0.358001</td>\n",
       "      <td>-0.084986</td>\n",
       "      <td>-0.117017</td>\n",
       "      <td>-0.092202</td>\n",
       "      <td>-0.012647</td>\n",
       "    </tr>\n",
       "    <tr>\n",
       "      <th>could</th>\n",
       "      <td>-0.067981</td>\n",
       "      <td>0.137348</td>\n",
       "      <td>0.023370</td>\n",
       "      <td>-0.116128</td>\n",
       "      <td>0.010520</td>\n",
       "      <td>-0.281833</td>\n",
       "      <td>0.155958</td>\n",
       "      <td>0.072412</td>\n",
       "      <td>-0.164765</td>\n",
       "      <td>0.016468</td>\n",
       "      <td>-0.161414</td>\n",
       "      <td>0.076028</td>\n",
       "      <td>-0.071485</td>\n",
       "      <td>-0.036864</td>\n",
       "      <td>0.081616</td>\n",
       "      <td>-0.422988</td>\n",
       "      <td>0.016194</td>\n",
       "      <td>-0.060985</td>\n",
       "      <td>0.011505</td>\n",
       "      <td>0.072005</td>\n",
       "    </tr>\n",
       "    <tr>\n",
       "      <th>function</th>\n",
       "      <td>0.004001</td>\n",
       "      <td>0.059733</td>\n",
       "      <td>0.163940</td>\n",
       "      <td>0.018912</td>\n",
       "      <td>0.018966</td>\n",
       "      <td>0.061442</td>\n",
       "      <td>-0.048751</td>\n",
       "      <td>0.006491</td>\n",
       "      <td>-0.183458</td>\n",
       "      <td>0.172434</td>\n",
       "      <td>0.070813</td>\n",
       "      <td>-0.089729</td>\n",
       "      <td>0.209797</td>\n",
       "      <td>-0.218003</td>\n",
       "      <td>-0.017632</td>\n",
       "      <td>-0.258182</td>\n",
       "      <td>-0.040602</td>\n",
       "      <td>0.003644</td>\n",
       "      <td>0.213692</td>\n",
       "      <td>0.203875</td>\n",
       "    </tr>\n",
       "    <tr>\n",
       "      <th>access</th>\n",
       "      <td>0.110635</td>\n",
       "      <td>0.178235</td>\n",
       "      <td>0.043077</td>\n",
       "      <td>-0.220355</td>\n",
       "      <td>-0.037568</td>\n",
       "      <td>-0.316610</td>\n",
       "      <td>0.156417</td>\n",
       "      <td>-0.156938</td>\n",
       "      <td>0.080257</td>\n",
       "      <td>-0.152520</td>\n",
       "      <td>-0.192875</td>\n",
       "      <td>0.133302</td>\n",
       "      <td>-0.049734</td>\n",
       "      <td>0.079041</td>\n",
       "      <td>0.133679</td>\n",
       "      <td>-0.331220</td>\n",
       "      <td>-0.098039</td>\n",
       "      <td>-0.097430</td>\n",
       "      <td>-0.075151</td>\n",
       "      <td>0.014473</td>\n",
       "    </tr>\n",
       "    <tr>\n",
       "      <th>earlier</th>\n",
       "      <td>-0.033937</td>\n",
       "      <td>0.099313</td>\n",
       "      <td>-0.078685</td>\n",
       "      <td>0.124555</td>\n",
       "      <td>0.060882</td>\n",
       "      <td>-0.159885</td>\n",
       "      <td>-0.025889</td>\n",
       "      <td>-0.084544</td>\n",
       "      <td>-0.125528</td>\n",
       "      <td>-0.060770</td>\n",
       "      <td>-0.174598</td>\n",
       "      <td>-0.033636</td>\n",
       "      <td>0.098232</td>\n",
       "      <td>0.039950</td>\n",
       "      <td>-0.032186</td>\n",
       "      <td>-0.104763</td>\n",
       "      <td>0.004937</td>\n",
       "      <td>-0.124372</td>\n",
       "      <td>0.142371</td>\n",
       "      <td>-0.004354</td>\n",
       "    </tr>\n",
       "    <tr>\n",
       "      <th>servic</th>\n",
       "      <td>0.045642</td>\n",
       "      <td>0.014441</td>\n",
       "      <td>0.090382</td>\n",
       "      <td>-0.297183</td>\n",
       "      <td>0.010307</td>\n",
       "      <td>-0.128734</td>\n",
       "      <td>0.041721</td>\n",
       "      <td>0.120099</td>\n",
       "      <td>-0.165957</td>\n",
       "      <td>-0.009880</td>\n",
       "      <td>-0.274881</td>\n",
       "      <td>0.095149</td>\n",
       "      <td>0.230676</td>\n",
       "      <td>-0.096890</td>\n",
       "      <td>0.187758</td>\n",
       "      <td>-0.569727</td>\n",
       "      <td>-0.084381</td>\n",
       "      <td>-0.050230</td>\n",
       "      <td>-0.109351</td>\n",
       "      <td>0.165549</td>\n",
       "    </tr>\n",
       "  </tbody>\n",
       "</table>\n",
       "</div>"
      ],
      "text/plain": [
       "                  0         1         2         3         4         5  \\\n",
       "vulner     0.029791  0.133402 -0.030531 -0.077273  0.099846 -0.378489   \n",
       "attack     0.013942  0.234610  0.056856 -0.260750 -0.063968 -0.362577   \n",
       "allow      0.036851  0.323518 -0.019389 -0.079774 -0.079845 -0.334971   \n",
       "via        0.122959  0.285991 -0.008764 -0.134726  0.035227 -0.184372   \n",
       "remot     -0.178436  0.170578 -0.045827 -0.092004  0.072009 -0.105454   \n",
       "version    0.142980  0.145600  0.019239  0.133466  0.016297 -0.408795   \n",
       "user       0.213590  0.199066  0.029191 -0.072005 -0.049742 -0.162005   \n",
       "execut    -0.068598  0.125390 -0.110637 -0.225154  0.071871 -0.234684   \n",
       "file       0.171961  0.058520 -0.061310 -0.224528  0.324022 -0.243994   \n",
       "code      -0.095517  0.128321 -0.020802 -0.193695  0.093964 -0.138499   \n",
       "arbitrari  0.031156  0.380906 -0.074046  0.092879  0.045394 -0.043093   \n",
       "issu       0.209452 -0.163609  0.052129 -0.047871  0.025383 -0.065928   \n",
       "window     0.020299  0.027884 -0.065286 -0.051665  0.049791 -0.098816   \n",
       "exploit    0.059897  0.143752  0.053406 -0.123371 -0.007974 -0.185874   \n",
       "server     0.076487  0.099817  0.019624 -0.174232  0.012656 -0.250222   \n",
       "could     -0.067981  0.137348  0.023370 -0.116128  0.010520 -0.281833   \n",
       "function   0.004001  0.059733  0.163940  0.018912  0.018966  0.061442   \n",
       "access     0.110635  0.178235  0.043077 -0.220355 -0.037568 -0.316610   \n",
       "earlier   -0.033937  0.099313 -0.078685  0.124555  0.060882 -0.159885   \n",
       "servic     0.045642  0.014441  0.090382 -0.297183  0.010307 -0.128734   \n",
       "\n",
       "                  6         7         8         9        10        11  \\\n",
       "vulner     0.124145 -0.103751  0.178344 -0.213379 -0.221962  0.150023   \n",
       "attack     0.113978 -0.110138  0.165290 -0.176965 -0.224727  0.162961   \n",
       "allow      0.097989 -0.194124  0.223996 -0.149279 -0.224916  0.204998   \n",
       "via       -0.066779 -0.041294  0.266346 -0.188186 -0.298111  0.039487   \n",
       "remot      0.018407 -0.008805  0.167930 -0.023994 -0.215696  0.130754   \n",
       "version    0.097404 -0.008066  0.083735 -0.266642 -0.216913  0.081066   \n",
       "user       0.163244 -0.142738 -0.006523 -0.051994 -0.087395  0.066964   \n",
       "execut    -0.036759 -0.086871 -0.030107 -0.206565 -0.294544  0.135542   \n",
       "file       0.035711  0.053293 -0.189319 -0.253849 -0.120267  0.056882   \n",
       "code      -0.047520 -0.027487 -0.032707 -0.151899 -0.268576  0.115950   \n",
       "arbitrari -0.148616 -0.295998 -0.113906 -0.124153 -0.177890 -0.012802   \n",
       "issu      -0.230550  0.256465 -0.181750 -0.140243 -0.070316  0.018258   \n",
       "window    -0.013144 -0.028040  0.025351  0.068512 -0.109441  0.070060   \n",
       "exploit    0.082806 -0.081616  0.067015 -0.162492 -0.174428  0.032603   \n",
       "server     0.093747  0.099356  0.216785 -0.081661 -0.234312  0.084455   \n",
       "could      0.155958  0.072412 -0.164765  0.016468 -0.161414  0.076028   \n",
       "function  -0.048751  0.006491 -0.183458  0.172434  0.070813 -0.089729   \n",
       "access     0.156417 -0.156938  0.080257 -0.152520 -0.192875  0.133302   \n",
       "earlier   -0.025889 -0.084544 -0.125528 -0.060770 -0.174598 -0.033636   \n",
       "servic     0.041721  0.120099 -0.165957 -0.009880 -0.274881  0.095149   \n",
       "\n",
       "                 12        13        14        15        16        17  \\\n",
       "vulner     0.017552  0.037190  0.196109 -0.381737  0.043154 -0.114640   \n",
       "attack    -0.056045  0.080904  0.200855 -0.384939  0.135859 -0.075946   \n",
       "allow     -0.007673  0.042238  0.229974 -0.466071  0.125965 -0.047542   \n",
       "via        0.008895  0.076055  0.220647 -0.354262  0.225883  0.035820   \n",
       "remot     -0.058881 -0.000706  0.247068 -0.400714  0.112339 -0.070633   \n",
       "version    0.171277  0.032684  0.194828 -0.344600 -0.208429 -0.181132   \n",
       "user      -0.323411 -0.032205  0.033528 -0.452243  0.269656 -0.058042   \n",
       "execut    -0.131859  0.021672  0.221932 -0.294394  0.203144 -0.131436   \n",
       "file      -0.011839  0.056021  0.051500 -0.568118  0.322231 -0.002039   \n",
       "code      -0.137210 -0.016884  0.167489 -0.314732  0.162616 -0.069166   \n",
       "arbitrari -0.123505  0.043213  0.116081 -0.395353  0.450949 -0.144469   \n",
       "issu       0.058295  0.008226  0.325389 -0.370032  0.118582  0.070868   \n",
       "window    -0.151226  0.010722  0.082325 -0.163408 -0.104390 -0.127020   \n",
       "exploit    0.005301  0.004084  0.011453 -0.188048 -0.013688 -0.139205   \n",
       "server    -0.091694  0.013044  0.172548 -0.358001 -0.084986 -0.117017   \n",
       "could     -0.071485 -0.036864  0.081616 -0.422988  0.016194 -0.060985   \n",
       "function   0.209797 -0.218003 -0.017632 -0.258182 -0.040602  0.003644   \n",
       "access    -0.049734  0.079041  0.133679 -0.331220 -0.098039 -0.097430   \n",
       "earlier    0.098232  0.039950 -0.032186 -0.104763  0.004937 -0.124372   \n",
       "servic     0.230676 -0.096890  0.187758 -0.569727 -0.084381 -0.050230   \n",
       "\n",
       "                 18        19  \n",
       "vulner    -0.013800 -0.173971  \n",
       "attack     0.021515 -0.016448  \n",
       "allow      0.093861  0.023899  \n",
       "via        0.083921  0.051572  \n",
       "remot      0.104002  0.051430  \n",
       "version    0.080950 -0.043104  \n",
       "user       0.013768  0.155761  \n",
       "execut     0.012681 -0.043524  \n",
       "file      -0.060740  0.130291  \n",
       "code      -0.034451 -0.025782  \n",
       "arbitrari  0.265660  0.104440  \n",
       "issu       0.242809  0.143267  \n",
       "window    -0.062471  0.017807  \n",
       "exploit    0.002977 -0.063404  \n",
       "server    -0.092202 -0.012647  \n",
       "could      0.011505  0.072005  \n",
       "function   0.213692  0.203875  \n",
       "access    -0.075151  0.014473  \n",
       "earlier    0.142371 -0.004354  \n",
       "servic    -0.109351  0.165549  "
      ]
     },
     "execution_count": 40,
     "metadata": {},
     "output_type": "execute_result"
    }
   ],
   "source": [
    "df_embeddings.head(20)"
   ]
  },
  {
   "cell_type": "code",
   "execution_count": 41,
   "metadata": {},
   "outputs": [],
   "source": [
    "df_embedding_trans = df_embeddings.T"
   ]
  },
  {
   "cell_type": "code",
   "execution_count": 42,
   "metadata": {},
   "outputs": [
    {
     "data": {
      "text/html": [
       "<div>\n",
       "<style scoped>\n",
       "    .dataframe tbody tr th:only-of-type {\n",
       "        vertical-align: middle;\n",
       "    }\n",
       "\n",
       "    .dataframe tbody tr th {\n",
       "        vertical-align: top;\n",
       "    }\n",
       "\n",
       "    .dataframe thead th {\n",
       "        text-align: right;\n",
       "    }\n",
       "</style>\n",
       "<table border=\"1\" class=\"dataframe\">\n",
       "  <thead>\n",
       "    <tr style=\"text-align: right;\">\n",
       "      <th></th>\n",
       "      <th>vulner</th>\n",
       "      <th>attack</th>\n",
       "      <th>allow</th>\n",
       "      <th>via</th>\n",
       "      <th>remot</th>\n",
       "      <th>version</th>\n",
       "      <th>user</th>\n",
       "      <th>execut</th>\n",
       "      <th>file</th>\n",
       "      <th>code</th>\n",
       "      <th>...</th>\n",
       "      <th>spa</th>\n",
       "      <th>tikiusertasksphp</th>\n",
       "      <th>showhistori</th>\n",
       "      <th>phpseriala</th>\n",
       "      <th>esal</th>\n",
       "      <th>synchoxid</th>\n",
       "      <th>oxconfiggetrequestparamet</th>\n",
       "      <th>coreoxconfigphp</th>\n",
       "      <th>woocommercephp</th>\n",
       "      <th>dexpress</th>\n",
       "    </tr>\n",
       "  </thead>\n",
       "  <tbody>\n",
       "    <tr>\n",
       "      <th>0</th>\n",
       "      <td>0.029791</td>\n",
       "      <td>0.013942</td>\n",
       "      <td>0.036851</td>\n",
       "      <td>0.122959</td>\n",
       "      <td>-0.178436</td>\n",
       "      <td>0.142980</td>\n",
       "      <td>0.213590</td>\n",
       "      <td>-0.068598</td>\n",
       "      <td>0.171961</td>\n",
       "      <td>-0.095517</td>\n",
       "      <td>...</td>\n",
       "      <td>0.021281</td>\n",
       "      <td>-0.008440</td>\n",
       "      <td>-0.002869</td>\n",
       "      <td>0.008051</td>\n",
       "      <td>0.020373</td>\n",
       "      <td>-0.007141</td>\n",
       "      <td>0.011227</td>\n",
       "      <td>-0.001740</td>\n",
       "      <td>0.015518</td>\n",
       "      <td>-0.009141</td>\n",
       "    </tr>\n",
       "    <tr>\n",
       "      <th>1</th>\n",
       "      <td>0.133402</td>\n",
       "      <td>0.234610</td>\n",
       "      <td>0.323518</td>\n",
       "      <td>0.285991</td>\n",
       "      <td>0.170578</td>\n",
       "      <td>0.145600</td>\n",
       "      <td>0.199066</td>\n",
       "      <td>0.125390</td>\n",
       "      <td>0.058520</td>\n",
       "      <td>0.128321</td>\n",
       "      <td>...</td>\n",
       "      <td>-0.020110</td>\n",
       "      <td>-0.002571</td>\n",
       "      <td>-0.025388</td>\n",
       "      <td>0.004379</td>\n",
       "      <td>0.012541</td>\n",
       "      <td>-0.018431</td>\n",
       "      <td>0.013817</td>\n",
       "      <td>0.004595</td>\n",
       "      <td>0.008209</td>\n",
       "      <td>-0.005569</td>\n",
       "    </tr>\n",
       "    <tr>\n",
       "      <th>2</th>\n",
       "      <td>-0.030531</td>\n",
       "      <td>0.056856</td>\n",
       "      <td>-0.019389</td>\n",
       "      <td>-0.008764</td>\n",
       "      <td>-0.045827</td>\n",
       "      <td>0.019239</td>\n",
       "      <td>0.029191</td>\n",
       "      <td>-0.110637</td>\n",
       "      <td>-0.061310</td>\n",
       "      <td>-0.020802</td>\n",
       "      <td>...</td>\n",
       "      <td>-0.009758</td>\n",
       "      <td>-0.004416</td>\n",
       "      <td>-0.013180</td>\n",
       "      <td>-0.009703</td>\n",
       "      <td>0.007223</td>\n",
       "      <td>0.008143</td>\n",
       "      <td>-0.014804</td>\n",
       "      <td>-0.012699</td>\n",
       "      <td>0.014299</td>\n",
       "      <td>0.012613</td>\n",
       "    </tr>\n",
       "    <tr>\n",
       "      <th>3</th>\n",
       "      <td>-0.077273</td>\n",
       "      <td>-0.260750</td>\n",
       "      <td>-0.079774</td>\n",
       "      <td>-0.134726</td>\n",
       "      <td>-0.092004</td>\n",
       "      <td>0.133466</td>\n",
       "      <td>-0.072005</td>\n",
       "      <td>-0.225154</td>\n",
       "      <td>-0.224528</td>\n",
       "      <td>-0.193695</td>\n",
       "      <td>...</td>\n",
       "      <td>-0.033600</td>\n",
       "      <td>0.003005</td>\n",
       "      <td>-0.017977</td>\n",
       "      <td>-0.013000</td>\n",
       "      <td>-0.008351</td>\n",
       "      <td>-0.021678</td>\n",
       "      <td>-0.018960</td>\n",
       "      <td>-0.003657</td>\n",
       "      <td>-0.027119</td>\n",
       "      <td>-0.006125</td>\n",
       "    </tr>\n",
       "    <tr>\n",
       "      <th>4</th>\n",
       "      <td>0.099846</td>\n",
       "      <td>-0.063968</td>\n",
       "      <td>-0.079845</td>\n",
       "      <td>0.035227</td>\n",
       "      <td>0.072009</td>\n",
       "      <td>0.016297</td>\n",
       "      <td>-0.049742</td>\n",
       "      <td>0.071871</td>\n",
       "      <td>0.324022</td>\n",
       "      <td>0.093964</td>\n",
       "      <td>...</td>\n",
       "      <td>0.010794</td>\n",
       "      <td>0.002342</td>\n",
       "      <td>0.000017</td>\n",
       "      <td>-0.012404</td>\n",
       "      <td>0.026554</td>\n",
       "      <td>0.023507</td>\n",
       "      <td>0.013215</td>\n",
       "      <td>-0.010389</td>\n",
       "      <td>-0.003051</td>\n",
       "      <td>-0.014120</td>\n",
       "    </tr>\n",
       "  </tbody>\n",
       "</table>\n",
       "<p>5 rows × 17768 columns</p>\n",
       "</div>"
      ],
      "text/plain": [
       "     vulner    attack     allow       via     remot   version      user  \\\n",
       "0  0.029791  0.013942  0.036851  0.122959 -0.178436  0.142980  0.213590   \n",
       "1  0.133402  0.234610  0.323518  0.285991  0.170578  0.145600  0.199066   \n",
       "2 -0.030531  0.056856 -0.019389 -0.008764 -0.045827  0.019239  0.029191   \n",
       "3 -0.077273 -0.260750 -0.079774 -0.134726 -0.092004  0.133466 -0.072005   \n",
       "4  0.099846 -0.063968 -0.079845  0.035227  0.072009  0.016297 -0.049742   \n",
       "\n",
       "     execut      file      code  ...       spa  tikiusertasksphp  showhistori  \\\n",
       "0 -0.068598  0.171961 -0.095517  ...  0.021281         -0.008440    -0.002869   \n",
       "1  0.125390  0.058520  0.128321  ... -0.020110         -0.002571    -0.025388   \n",
       "2 -0.110637 -0.061310 -0.020802  ... -0.009758         -0.004416    -0.013180   \n",
       "3 -0.225154 -0.224528 -0.193695  ... -0.033600          0.003005    -0.017977   \n",
       "4  0.071871  0.324022  0.093964  ...  0.010794          0.002342     0.000017   \n",
       "\n",
       "   phpseriala      esal  synchoxid  oxconfiggetrequestparamet  \\\n",
       "0    0.008051  0.020373  -0.007141                   0.011227   \n",
       "1    0.004379  0.012541  -0.018431                   0.013817   \n",
       "2   -0.009703  0.007223   0.008143                  -0.014804   \n",
       "3   -0.013000 -0.008351  -0.021678                  -0.018960   \n",
       "4   -0.012404  0.026554   0.023507                   0.013215   \n",
       "\n",
       "   coreoxconfigphp  woocommercephp  dexpress  \n",
       "0        -0.001740        0.015518 -0.009141  \n",
       "1         0.004595        0.008209 -0.005569  \n",
       "2        -0.012699        0.014299  0.012613  \n",
       "3        -0.003657       -0.027119 -0.006125  \n",
       "4        -0.010389       -0.003051 -0.014120  \n",
       "\n",
       "[5 rows x 17768 columns]"
      ]
     },
     "execution_count": 42,
     "metadata": {},
     "output_type": "execute_result"
    }
   ],
   "source": [
    "df_embedding_trans.head()"
   ]
  },
  {
   "cell_type": "code",
   "execution_count": 43,
   "metadata": {},
   "outputs": [
    {
     "data": {
      "text/plain": [
       "array([ 0.02979121,  0.13340162, -0.03053069, -0.07727258,  0.09984584,\n",
       "       -0.37848935,  0.12414527, -0.10375053,  0.17834395, -0.21337855,\n",
       "       -0.22196162,  0.15002255,  0.0175519 ,  0.03719021,  0.19610938,\n",
       "       -0.38173738,  0.04315442, -0.11464024, -0.01379974, -0.17397141],\n",
       "      dtype=float32)"
      ]
     },
     "execution_count": 43,
     "metadata": {},
     "output_type": "execute_result"
    }
   ],
   "source": [
    "np.array(df_embedding_trans['vulner'])"
   ]
  },
  {
   "cell_type": "code",
   "execution_count": 44,
   "metadata": {},
   "outputs": [
    {
     "name": "stdout",
     "output_type": "stream",
     "text": [
      "(17768, 17768)\n"
     ]
    }
   ],
   "source": [
    "#Verifying Closeness\n",
    "distance_matrix = euclidean_distances(weights)\n",
    "print(distance_matrix.shape)\n",
    "\n",
    "similar_words = {search_term: [id2word[idx] for idx in distance_matrix[word2id[search_term]-1].argsort()[1:4]+1] \n",
    "                   for search_term in ['vulner', 'attack', 'window', 'via', 'remot', 'code', 'user','exploit']}"
   ]
  },
  {
   "cell_type": "code",
   "execution_count": 45,
   "metadata": {},
   "outputs": [
    {
     "data": {
      "text/plain": [
       "17768"
      ]
     },
     "execution_count": 45,
     "metadata": {},
     "output_type": "execute_result"
    }
   ],
   "source": [
    "len(distance_matrix)"
   ]
  },
  {
   "cell_type": "code",
   "execution_count": 46,
   "metadata": {},
   "outputs": [
    {
     "data": {
      "text/plain": [
       "{'vulner': ['attack', 'access', 'allow'],\n",
       " 'attack': ['allow', 'access', 'vulner'],\n",
       " 'window': ['microsoft', 'fail', 'elev'],\n",
       " 'via': ['allow', 'attack', 'request'],\n",
       " 'remot': ['code', 'aka', 'execut'],\n",
       " 'code': ['execut', 'remot', 'local'],\n",
       " 'user': ['system', 'authent', 'obtain'],\n",
       " 'exploit': ['success', 'unauthor', 'avail']}"
      ]
     },
     "execution_count": 46,
     "metadata": {},
     "output_type": "execute_result"
    }
   ],
   "source": [
    "similar_words"
   ]
  },
  {
   "cell_type": "code",
   "execution_count": 47,
   "metadata": {},
   "outputs": [],
   "source": [
    "words = sum([[k] + v for k, v in similar_words.items()], [])\n",
    "words_ids = [word2id[w] for w in words]\n",
    "word_vectors = np.array([weights[idx] for idx in words_ids])"
   ]
  },
  {
   "cell_type": "code",
   "execution_count": 48,
   "metadata": {},
   "outputs": [],
   "source": [
    "#T-SNE dimensionality Reduction\n",
    "tsne = TSNE(n_components=2, random_state=0, n_iter=10000, perplexity=3)\n",
    "np.set_printoptions(suppress=True)\n",
    "T = tsne.fit_transform(word_vectors)\n",
    "labels = words"
   ]
  },
  {
   "cell_type": "code",
   "execution_count": 49,
   "metadata": {},
   "outputs": [
    {
     "name": "stdout",
     "output_type": "stream",
     "text": [
      "Total words: 32 \tWord Embedding shapes: (32, 20)\n"
     ]
    },
    {
     "data": {
      "image/png": "[encoded data removed]",
      "text/plain": [
       "<Figure size 576x576 with 1 Axes>"
      ]
     },
     "metadata": {
      "needs_background": "light"
     },
     "output_type": "display_data"
    }
   ],
   "source": [
    "plt.figure(figsize=(8, 8))\n",
    "plt.scatter(T[:, 0], T[:, 1], c='steelblue', edgecolors='k')\n",
    "for label, x, y in zip(labels, T[:, 0], T[:, 1]):\n",
    "    plt.annotate(label, xy=(x+1, y+1), xytext=(0, 0), textcoords='offset points')\n",
    "print('Total words:', len(words), '\\tWord Embedding shapes:', word_vectors.shape)"
   ]
  },
  {
   "cell_type": "code",
   "execution_count": 50,
   "metadata": {},
   "outputs": [
    {
     "name": "stdout",
     "output_type": "stream",
     "text": [
      "Max. Sentence # words: 367\n"
     ]
    }
   ],
   "source": [
    "#Generating Training Set\n",
    "max_len_sentences = max([len(wpt.tokenize(doc)) for doc in norm_corpora]) #<------- [Parameter]\n",
    "print(\"Max. Sentence # words:\",max_len_sentences)"
   ]
  },
  {
   "cell_type": "code",
   "execution_count": 51,
   "metadata": {},
   "outputs": [],
   "source": [
    "corpora_tensor = [[np.array(df_embedding_trans[word_]) for word_ in wpt.tokenize(doc) if word_ not in remove_terms] \n",
    "                  for doc in norm_corpora]"
   ]
  },
  {
   "cell_type": "code",
   "execution_count": 52,
   "metadata": {
    "scrolled": true
   },
   "outputs": [
    {
     "data": {
      "text/plain": [
       "15"
      ]
     },
     "execution_count": 52,
     "metadata": {},
     "output_type": "execute_result"
    }
   ],
   "source": [
    "len(wpt.tokenize(norm_corpora[0]))"
   ]
  },
  {
   "cell_type": "code",
   "execution_count": 53,
   "metadata": {},
   "outputs": [],
   "source": [
    "#BaseLine Architecture <-------\n",
    "words_rows = max_len_sentences\n",
    "embeddigs_cols = embed_size\n",
    "input_sh = (words_rows,embeddigs_cols,1)\n",
    "#Selecting filters? \n",
    "#https://stackoverflow.com/questions/48243360/how-to-determine-the-filter-parameter-in-the-keras-conv2d-function\n",
    "#https://stats.stackexchange.com/questions/196646/what-is-the-significance-of-the-number-of-convolution-filters-in-a-convolutional\n",
    "\n",
    "N_filters = 32 # <-------- [HyperParameter] Powers of 2 Numer of Features\n",
    "K = 2 # <-------- [HyperParameter] Number of Classess"
   ]
  },
  {
   "cell_type": "code",
   "execution_count": 54,
   "metadata": {},
   "outputs": [
    {
     "data": {
      "text/plain": [
       "(367, 20, 1)"
      ]
     },
     "execution_count": 54,
     "metadata": {},
     "output_type": "execute_result"
    }
   ],
   "source": [
    "input_sh"
   ]
  },
  {
   "cell_type": "code",
   "execution_count": 55,
   "metadata": {},
   "outputs": [],
   "source": [
    "#baseline_model = Sequential()\n",
    "gram_input = Input(shape = input_sh)"
   ]
  },
  {
   "cell_type": "code",
   "execution_count": 56,
   "metadata": {},
   "outputs": [],
   "source": [
    "# 1st Convolutional Layer (1-gram)\n",
    "conv_filter_1_gram = Conv2D(filters= N_filters, input_shape=input_sh, activation='relu', \n",
    "                       kernel_size=(1,embeddigs_cols), padding='valid',data_format=\"channels_last\")(gram_input)"
   ]
  },
  {
   "cell_type": "code",
   "execution_count": 57,
   "metadata": {},
   "outputs": [
    {
     "data": {
      "text/plain": [
       "<tf.Tensor 'conv2d/Identity:0' shape=(None, 367, 1, 32) dtype=float32>"
      ]
     },
     "execution_count": 57,
     "metadata": {},
     "output_type": "execute_result"
    }
   ],
   "source": [
    "conv_filter_1_gram"
   ]
  },
  {
   "cell_type": "code",
   "execution_count": 58,
   "metadata": {},
   "outputs": [],
   "source": [
    "# 2sd Convolutional Layer (3-gram)\n",
    "conv_filter_3_gram = Conv2D(filters= N_filters, input_shape=input_sh, activation='relu', \n",
    "                       kernel_size=(3,embeddigs_cols), padding='valid')(gram_input)"
   ]
  },
  {
   "cell_type": "code",
   "execution_count": 59,
   "metadata": {},
   "outputs": [],
   "source": [
    "# 3rd Convolutional Layer (5-gram)\n",
    "conv_filter_5_gram = Conv2D(filters= N_filters, input_shape=input_sh, activation='relu', \n",
    "                       kernel_size=(5,embeddigs_cols), padding='valid')(gram_input)"
   ]
  },
  {
   "cell_type": "code",
   "execution_count": 60,
   "metadata": {},
   "outputs": [],
   "source": [
    "# Max Pooling Layer\n",
    "max_pool_1_gram = MaxPooling2D(pool_size=((words_rows-1+1), 1), strides=None, padding='valid')(conv_filter_1_gram)\n",
    "max_pool_3_gram = MaxPooling2D(pool_size=((words_rows-3+1), 1), strides=None, padding='valid')(conv_filter_3_gram)\n",
    "max_pool_5_gram = MaxPooling2D(pool_size=((words_rows-5+1), 1), strides=None, padding='valid')(conv_filter_5_gram)"
   ]
  },
  {
   "cell_type": "code",
   "execution_count": 61,
   "metadata": {},
   "outputs": [],
   "source": [
    "# Fully Connected layer\n",
    "fully_connected_1_gram = Flatten()(max_pool_1_gram)\n",
    "fully_connected_3_gram = Flatten()(max_pool_3_gram)\n",
    "fully_connected_5_gram = Flatten()(max_pool_5_gram)"
   ]
  },
  {
   "cell_type": "code",
   "execution_count": 62,
   "metadata": {},
   "outputs": [],
   "source": [
    "merged_vector = layers.concatenate([fully_connected_1_gram, fully_connected_3_gram, \n",
    "                                    fully_connected_5_gram], axis=-1)\n",
    "\n",
    "integration_layer = Dropout(0.4)(merged_vector)\n",
    "\n",
    "predictions = Dense(K, activation='softmax')(integration_layer)"
   ]
  },
  {
   "cell_type": "code",
   "execution_count": 63,
   "metadata": {},
   "outputs": [],
   "source": [
    "#Criticality Model\n",
    "criticality_network = Model(inputs=[gram_input],outputs=[predictions]) "
   ]
  },
  {
   "cell_type": "code",
   "execution_count": 64,
   "metadata": {},
   "outputs": [],
   "source": [
    "criticality_network.compile(optimizer='adam',\n",
    "                      loss='binary_crossentropy',\n",
    "                      metrics=['accuracy'])"
   ]
  },
  {
   "cell_type": "code",
   "execution_count": 65,
   "metadata": {},
   "outputs": [],
   "source": [
    "#Corpus Generation\n",
    "import csv\n",
    "import random"
   ]
  },
  {
   "cell_type": "code",
   "execution_count": null,
   "metadata": {},
   "outputs": [],
   "source": []
  }
 ],
 "metadata": {
  "kernelspec": {
   "display_name": "Python 3",
   "language": "python",
   "name": "python3"
  },
  "language_info": {
   "codemirror_mode": {
    "name": "ipython",
    "version": 3
   },
   "file_extension": ".py",
   "mimetype": "text/x-python",
   "name": "python",
   "nbconvert_exporter": "python",
   "pygments_lexer": "ipython3",
   "version": "3.7.4"
  }
 },
 "nbformat": 4,
 "nbformat_minor": 2
}
