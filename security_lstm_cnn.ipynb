{
 "cells": [
  {
   "cell_type": "code",
   "execution_count": 0,
   "metadata": {
    "colab": {},
    "colab_type": "code",
    "id": "6dq7CKh3x8kb"
   },
   "outputs": [],
   "source": [
    "from sklearn.model_selection import train_test_split\n",
    "import pandas as pd\n",
    "import numpy as np\n",
    "\n",
    "from tensorflow.python.keras.layers import Embedding, Activation, Dense, Dropout, Conv1D, MaxPooling1D, LSTM, Dropout\n",
    "from tensorflow.python.keras.models import Sequential\n",
    "\n",
    "from tensorflow.python.keras.preprocessing.text import Tokenizer\n",
    "from tensorflow.python.keras.preprocessing.sequence import pad_sequences"
   ]
  },
  {
   "cell_type": "code",
   "execution_count": 0,
   "metadata": {
    "colab": {},
    "colab_type": "code",
    "id": "WC5N5rPeyIKx"
   },
   "outputs": [],
   "source": [
    "train_text=pd.read_csv('./train_raw_sentences.csv',dtype='str')\n",
    "test_text=pd.read_csv('./test_raw_sentences.csv',dtype='str')\n",
    "\n",
    "train_labels=pd.read_csv('./train_labels.csv')\n",
    "test_labels=pd.read_csv('./test_labels.csv')"
   ]
  },
  {
   "cell_type": "code",
   "execution_count": 0,
   "metadata": {
    "colab": {},
    "colab_type": "code",
    "id": "jihDdYy-zmkl"
   },
   "outputs": [],
   "source": [
    "train_text.columns=['Text']\n",
    "train_text.head()\n",
    "\n",
    "test_text.columns=['Text']\n",
    "test_text.head()\n",
    "\n",
    "train_labels.columns=['Label']\n",
    "test_labels.columns=['Label']\n",
    "\n",
    "train=pd.concat([train_text,train_labels],axis=1)\n",
    "test=pd.concat([test_text,test_labels],axis=1)"
   ]
  },
  {
   "cell_type": "code",
   "execution_count": 0,
   "metadata": {
    "colab": {},
    "colab_type": "code",
    "id": "il0dO_JOhCal"
   },
   "outputs": [],
   "source": [
    "# Set parameters\n",
    "batch_size=32\n",
    "embedding_dims=50\n",
    "max_features=20000\n",
    "maxlen=50\n",
    "filters=250\n",
    "kernel_size=5\n",
    "hidden_dims=250\n",
    "epochs=10"
   ]
  },
  {
   "cell_type": "code",
   "execution_count": 0,
   "metadata": {
    "colab": {},
    "colab_type": "code",
    "id": "zYFpT3bnhPQu"
   },
   "outputs": [],
   "source": [
    "# Try deep learning\n",
    "model = Sequential()\n",
    "model.add(Embedding(max_features,\\\n",
    "                    embedding_dims,\\\n",
    "                    input_length=maxlen))\n",
    "\n",
    "model.add(Dropout(0.2))\n",
    "\n",
    "model.add(Conv1D(filters,\\\n",
    "                 kernel_size,\\\n",
    "                 activation='relu'))\n",
    "\n",
    "model.add(MaxPooling1D(pool_size=4))\n",
    "\n",
    "model.add(LSTM(100))\n",
    "\n",
    "model.add(Dense(hidden_dims))\n",
    "model.add(Dropout(0.2))\n",
    "model.add(Activation('relu'))\n",
    "\n",
    "model.add(Dense(1, activation='sigmoid'))"
   ]
  },
  {
   "cell_type": "code",
   "execution_count": 34,
   "metadata": {
    "colab": {
     "base_uri": "https://localhost:8080/",
     "height": 476
    },
    "colab_type": "code",
    "id": "bOAIM6B2AQaq",
    "outputId": "82dafbef-6530-489c-fb6c-c391cb749a9e"
   },
   "outputs": [
    {
     "name": "stdout",
     "output_type": "stream",
     "text": [
      "Model: \"sequential_2\"\n",
      "_________________________________________________________________\n",
      "Layer (type)                 Output Shape              Param #   \n",
      "=================================================================\n",
      "embedding_2 (Embedding)      (None, 50, 50)            1000000   \n",
      "_________________________________________________________________\n",
      "dropout_4 (Dropout)          (None, 50, 50)            0         \n",
      "_________________________________________________________________\n",
      "conv1d_2 (Conv1D)            (None, 46, 250)           62750     \n",
      "_________________________________________________________________\n",
      "max_pooling1d_2 (MaxPooling1 (None, 11, 250)           0         \n",
      "_________________________________________________________________\n",
      "lstm_2 (LSTM)                (None, 100)               140400    \n",
      "_________________________________________________________________\n",
      "dense_4 (Dense)              (None, 250)               25250     \n",
      "_________________________________________________________________\n",
      "dropout_5 (Dropout)          (None, 250)               0         \n",
      "_________________________________________________________________\n",
      "activation_2 (Activation)    (None, 250)               0         \n",
      "_________________________________________________________________\n",
      "dense_5 (Dense)              (None, 1)                 251       \n",
      "=================================================================\n",
      "Total params: 1,228,651\n",
      "Trainable params: 1,228,651\n",
      "Non-trainable params: 0\n",
      "_________________________________________________________________\n",
      "None\n"
     ]
    }
   ],
   "source": [
    "print(model.summary())"
   ]
  },
  {
   "cell_type": "code",
   "execution_count": 0,
   "metadata": {
    "colab": {},
    "colab_type": "code",
    "id": "y40pwqOs8cs9"
   },
   "outputs": [],
   "source": [
    "METRICS = [\n",
    "      tf.keras.metrics.BinaryAccuracy(name='accuracy'),\n",
    "      tf.keras.metrics.Precision(name='precision'),\n",
    "      tf.keras.metrics.Recall(name='recall'),\n",
    "      tf.keras.metrics.AUC(name='auc'),\n",
    "]"
   ]
  },
  {
   "cell_type": "code",
   "execution_count": 0,
   "metadata": {
    "colab": {},
    "colab_type": "code",
    "id": "kMP_-5hOhUcu"
   },
   "outputs": [],
   "source": [
    "model.compile(loss='binary_crossentropy', optimizer='adam', metrics=METRICS)"
   ]
  },
  {
   "cell_type": "code",
   "execution_count": 36,
   "metadata": {
    "colab": {
     "base_uri": "https://localhost:8080/",
     "height": 34
    },
    "colab_type": "code",
    "id": "04v96-fH6eX-",
    "outputId": "602591d2-5ca7-4e74-b470-f4224848d4e1"
   },
   "outputs": [
    {
     "data": {
      "text/plain": [
       "(103872,)"
      ]
     },
     "execution_count": 36,
     "metadata": {
      "tags": []
     },
     "output_type": "execute_result"
    }
   ],
   "source": [
    "train['Text'].shape"
   ]
  },
  {
   "cell_type": "code",
   "execution_count": 0,
   "metadata": {
    "colab": {},
    "colab_type": "code",
    "id": "Rn8RBXn7-5Ya"
   },
   "outputs": [],
   "source": [
    "train_text_1=train.Text.apply(str)"
   ]
  },
  {
   "cell_type": "code",
   "execution_count": 0,
   "metadata": {
    "colab": {},
    "colab_type": "code",
    "id": "YQ5NWqfW84QN"
   },
   "outputs": [],
   "source": [
    "vocabulary_size = 20000\n",
    "tokenizer = Tokenizer(num_words= vocabulary_size)\n",
    "tokenizer.fit_on_texts(train_text_1)\n",
    "\n",
    "sequences = tokenizer.texts_to_sequences(train_text_1)\n",
    "\n",
    "X_data = pad_sequences(sequences, maxlen=50)"
   ]
  },
  {
   "cell_type": "code",
   "execution_count": 39,
   "metadata": {
    "colab": {
     "base_uri": "https://localhost:8080/",
     "height": 357
    },
    "colab_type": "code",
    "id": "N4JI2HbJ-ko3",
    "outputId": "1a2c3fc8-e4c9-495a-873d-374d2052699d"
   },
   "outputs": [
    {
     "data": {
      "text/plain": [
       "array([[   0,    0,    0,    0,    0,    0,    0,    0,    0,    0,    1,\n",
       "         482,  160, 2123,   32,    4,    1, 1703,  249,    8, 1937,   37,\n",
       "          67,   44,    1, 7494, 1100,    2, 2163,    9,  132,  117,  373,\n",
       "          12,  327, 2123,   18,   12,  367,   29,    7,   18,    5,   29,\n",
       "          10,    7, 9822,   56,  229, 1696],\n",
       "       [ 830,   11, 3668,   67,   25,  117,  479,    5,   23,    4, 1673,\n",
       "           6,    9,  145, 1899,  185,  230,  151, 7899, 3271,    2, 1336,\n",
       "           9,   11,  542,   72,   44,  390, 1643, 9592,   16,  101, 6521,\n",
       "        5142, 1607,    3,  323,    6, 6607, 2749, 1400,   16,   42,   25,\n",
       "         160,   47,   54, 1733,   16,  575],\n",
       "       [   5,  331,   39, 1473,   34,    3,  765,    4,   47,  331,   39,\n",
       "          23, 1897, 1473,   34,   15, 1251,  245,   15,  263,   67,   23,\n",
       "          25,  452,    2,  973,    2,    3, 1603,  249,   47,  331,  204,\n",
       "           2,   15, 1073,   80,  546,   43, 3846,    2,  130,  109,    9,\n",
       "        2613, 8014,  426,    2, 3427, 2706],\n",
       "       [ 356,  245,   30,   23,  345, 2594,  429, 3528,  230,   64,  230,\n",
       "         117,  469,  664,  356,  223,   23,  345,  429,  405, 1051,   51,\n",
       "           8,   23,  836,   11,  369,   77,  395,  112,  195,   51,  250,\n",
       "          14, 1049,  429,  641, 1055,   19,  230,   45,   86,   10,    5,\n",
       "         482,  823,   32,   85,  230,   64]], dtype=int32)"
      ]
     },
     "execution_count": 39,
     "metadata": {
      "tags": []
     },
     "output_type": "execute_result"
    }
   ],
   "source": [
    "X_data[:4]"
   ]
  },
  {
   "cell_type": "code",
   "execution_count": 40,
   "metadata": {
    "colab": {
     "base_uri": "https://localhost:8080/",
     "height": 221
    },
    "colab_type": "code",
    "id": "rDYikgEcAHLr",
    "outputId": "6bba965c-4610-41c5-ca88-5357e0f7321e"
   },
   "outputs": [
    {
     "data": {
      "text/plain": [
       "0         1\n",
       "1         1\n",
       "2         1\n",
       "3         1\n",
       "4         1\n",
       "         ..\n",
       "103867    1\n",
       "103868    1\n",
       "103869    1\n",
       "103870    1\n",
       "103871    1\n",
       "Name: Label, Length: 103872, dtype: int64"
      ]
     },
     "execution_count": 40,
     "metadata": {
      "tags": []
     },
     "output_type": "execute_result"
    }
   ],
   "source": [
    "train['Label']"
   ]
  },
  {
   "cell_type": "code",
   "execution_count": 71,
   "metadata": {
    "colab": {
     "base_uri": "https://localhost:8080/",
     "height": 377
    },
    "colab_type": "code",
    "id": "Q3wy4YrbhWKu",
    "outputId": "8ab1fb9f-3ac0-4083-a7fe-fc56248bb40e"
   },
   "outputs": [
    {
     "name": "stdout",
     "output_type": "stream",
     "text": [
      "Epoch 1/10\n",
      "2273/2273 [==============================] - 136s 60ms/step - loss: 0.0075 - accuracy: 0.9971 - precision: 0.9949 - recall: 0.9949 - auc: 0.9998 - val_loss: 0.0411 - val_accuracy: 0.9917 - val_precision: 1.0000 - val_recall: 0.9917 - val_auc: 0.0000e+00\n",
      "Epoch 2/10\n",
      "2273/2273 [==============================] - 137s 60ms/step - loss: 0.0059 - accuracy: 0.9974 - precision: 0.9962 - recall: 0.9949 - auc: 0.9999 - val_loss: 0.0257 - val_accuracy: 0.9956 - val_precision: 1.0000 - val_recall: 0.9956 - val_auc: 0.0000e+00\n",
      "Epoch 3/10\n",
      "2273/2273 [==============================] - 137s 60ms/step - loss: 0.0058 - accuracy: 0.9976 - precision: 0.9961 - recall: 0.9956 - auc: 0.9999 - val_loss: 0.0559 - val_accuracy: 0.9931 - val_precision: 1.0000 - val_recall: 0.9931 - val_auc: 0.0000e+00\n",
      "Epoch 4/10\n",
      "2273/2273 [==============================] - 138s 61ms/step - loss: 0.0049 - accuracy: 0.9977 - precision: 0.9965 - recall: 0.9955 - auc: 0.9999 - val_loss: 0.0637 - val_accuracy: 0.9922 - val_precision: 1.0000 - val_recall: 0.9922 - val_auc: 0.0000e+00\n",
      "Epoch 5/10\n",
      "2273/2273 [==============================] - 138s 60ms/step - loss: 0.0049 - accuracy: 0.9980 - precision: 0.9957 - recall: 0.9974 - auc: 0.9998 - val_loss: 0.0449 - val_accuracy: 0.9939 - val_precision: 1.0000 - val_recall: 0.9939 - val_auc: 0.0000e+00\n",
      "Epoch 6/10\n",
      "2273/2273 [==============================] - 137s 60ms/step - loss: 0.0055 - accuracy: 0.9978 - precision: 0.9962 - recall: 0.9962 - auc: 0.9999 - val_loss: 0.0183 - val_accuracy: 0.9972 - val_precision: 1.0000 - val_recall: 0.9972 - val_auc: 0.0000e+00\n",
      "Epoch 7/10\n",
      "2273/2273 [==============================] - 138s 61ms/step - loss: 0.0042 - accuracy: 0.9982 - precision: 0.9969 - recall: 0.9967 - auc: 1.0000 - val_loss: 0.0505 - val_accuracy: 0.9935 - val_precision: 1.0000 - val_recall: 0.9935 - val_auc: 0.0000e+00\n",
      "Epoch 8/10\n",
      "2273/2273 [==============================] - 137s 60ms/step - loss: 0.0046 - accuracy: 0.9979 - precision: 0.9975 - recall: 0.9954 - auc: 0.9999 - val_loss: 0.0359 - val_accuracy: 0.9952 - val_precision: 1.0000 - val_recall: 0.9952 - val_auc: 0.0000e+00\n",
      "Epoch 9/10\n",
      "2273/2273 [==============================] - 137s 60ms/step - loss: 0.0051 - accuracy: 0.9978 - precision: 0.9962 - recall: 0.9963 - auc: 0.9999 - val_loss: 0.0395 - val_accuracy: 0.9941 - val_precision: 1.0000 - val_recall: 0.9941 - val_auc: 0.0000e+00\n",
      "Epoch 10/10\n",
      "2273/2273 [==============================] - 137s 60ms/step - loss: 0.0050 - accuracy: 0.9980 - precision: 0.9964 - recall: 0.9968 - auc: 0.9999 - val_loss: 0.0473 - val_accuracy: 0.9920 - val_precision: 1.0000 - val_recall: 0.9920 - val_auc: 0.0000e+00\n"
     ]
    }
   ],
   "source": [
    "history=model.fit(X_data, train['Label'],\n",
    "                    batch_size=batch_size,\n",
    "                    epochs=epochs,\n",
    "                    verbose=1,\n",
    "                    validation_split=0.3)"
   ]
  },
  {
   "cell_type": "code",
   "execution_count": 0,
   "metadata": {
    "colab": {},
    "colab_type": "code",
    "id": "eu0KWNyoAoI3"
   },
   "outputs": [],
   "source": [
    "test_text_1=test.Text.apply(str)\n",
    "\n",
    "tokenizer.fit_on_texts(test_text_1)\n",
    "\n",
    "test_sequences = tokenizer.texts_to_sequences(test_text_1)\n",
    "X_test = pad_sequences(test_sequences, maxlen=50)"
   ]
  },
  {
   "cell_type": "code",
   "execution_count": 61,
   "metadata": {
    "colab": {
     "base_uri": "https://localhost:8080/",
     "height": 54
    },
    "colab_type": "code",
    "id": "yHGxyEWGhX-H",
    "outputId": "1ebe041a-1242-42e0-f873-2ade8388661d"
   },
   "outputs": [
    {
     "name": "stdout",
     "output_type": "stream",
     "text": [
      "46/46 [==============================] - 2s 54ms/step - loss: 2.4628 - tp: 4328.0000 - fp: 2164.0000 - tn: 3586.0000 - fn: 1465.0000 - accuracy: 0.6856 - precision: 0.6667 - recall: 0.7471 - auc: 0.7249\n"
     ]
    }
   ],
   "source": [
    "score = model.evaluate(X_test, test['Label'],\n",
    "                       batch_size=256, verbose=1)"
   ]
  },
  {
   "cell_type": "code",
   "execution_count": 0,
   "metadata": {
    "colab": {},
    "colab_type": "code",
    "id": "koSS0iIf2For"
   },
   "outputs": [],
   "source": [
    "import matplotlib.pyplot as plt\n",
    "import matplotlib as mpl\n",
    "mpl.rcParams['figure.figsize'] = (12, 10)\n",
    "colors = plt.rcParams['axes.prop_cycle'].by_key()['color']\n",
    "\n",
    "def plot_metrics(history):\n",
    "  metrics =  ['loss', 'precision', 'recall', 'auc']\n",
    "  for n, metric in enumerate(metrics):\n",
    "    name = metric.replace(\"_\",\" \").capitalize()\n",
    "    plt.subplot(2,2,n+1)\n",
    "    plt.plot(history.epoch,  history.history[metric], color=colors[0], label='Train')\n",
    "    plt.plot(history.epoch, history.history['val_'+metric],\n",
    "             color=colors[0], linestyle=\"--\", label='Val')\n",
    "    plt.xlabel('Epoch')\n",
    "    plt.ylabel(name)\n",
    "    if metric == 'loss':\n",
    "      plt.ylim([0, plt.ylim()[1]])\n",
    "    elif metric == 'auc':\n",
    "      plt.ylim([0.8,1])\n",
    "    else:\n",
    "      plt.ylim([0,1])\n",
    "\n",
    "    plt.legend()"
   ]
  },
  {
   "cell_type": "code",
   "execution_count": 73,
   "metadata": {
    "colab": {
     "base_uri": "https://localhost:8080/",
     "height": 610
    },
    "colab_type": "code",
    "id": "L3tnm6qT2H6i",
    "outputId": "7ec6c94f-95fc-4cb9-da22-386a4546b19b"
   },
   "outputs": [
    {
     "data": {
      "image/png": "[encoded data removed]",
      "text/plain": [
       "<Figure size 864x720 with 4 Axes>"
      ]
     },
     "metadata": {
      "tags": []
     },
     "output_type": "display_data"
    }
   ],
   "source": [
    "plot_metrics(history)"
   ]
  }
 ],
 "metadata": {
  "colab": {
   "name": "security-lstm-cnn.ipynb",
   "provenance": []
  },
  "kernelspec": {
   "display_name": "Python 3",
   "language": "python",
   "name": "python3"
  },
  "language_info": {
   "codemirror_mode": {
    "name": "ipython",
    "version": 3
   },
   "file_extension": ".py",
   "mimetype": "text/x-python",
   "name": "python",
   "nbconvert_exporter": "python",
   "pygments_lexer": "ipython3",
   "version": "3.7.6"
  }
 },
 "nbformat": 4,
 "nbformat_minor": 1
}
